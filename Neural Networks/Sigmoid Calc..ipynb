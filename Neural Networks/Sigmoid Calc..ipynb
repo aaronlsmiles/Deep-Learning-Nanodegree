{
 "cells": [
  {
   "cell_type": "code",
   "execution_count": 8,
   "id": "foreign-costa",
   "metadata": {},
   "outputs": [],
   "source": [
    "import numpy as np"
   ]
  },
  {
   "cell_type": "code",
   "execution_count": 9,
   "id": "generic-participant",
   "metadata": {},
   "outputs": [],
   "source": [
    "def sigmoid(Z):\n",
    "    H = 1/(1+np.exp(-Z))\n",
    "    return H"
   ]
  },
  {
   "cell_type": "code",
   "execution_count": 21,
   "id": "compact-percentage",
   "metadata": {},
   "outputs": [],
   "source": [
    "Z = np.array([1,1, 2,4, 5,-5, -4,5]).reshape(4,2)"
   ]
  },
  {
   "cell_type": "code",
   "execution_count": 22,
   "id": "informational-madagascar",
   "metadata": {},
   "outputs": [
    {
     "data": {
      "text/plain": [
       "array([[ 1,  1],\n",
       "       [ 2,  4],\n",
       "       [ 5, -5],\n",
       "       [-4,  5]])"
      ]
     },
     "execution_count": 22,
     "metadata": {},
     "output_type": "execute_result"
    }
   ],
   "source": [
    "Z"
   ]
  },
  {
   "cell_type": "code",
   "execution_count": 29,
   "id": "reduced-burlington",
   "metadata": {},
   "outputs": [
    {
     "data": {
      "text/plain": [
       "array([[0.73105858, 0.73105858],\n",
       "       [0.88079708, 0.98201379],\n",
       "       [0.99330715, 0.00669285],\n",
       "       [0.01798621, 0.99330715]])"
      ]
     },
     "execution_count": 29,
     "metadata": {},
     "output_type": "execute_result"
    }
   ],
   "source": [
    "sigmoid(Z)"
   ]
  },
  {
   "cell_type": "code",
   "execution_count": 34,
   "id": "unsigned-archives",
   "metadata": {},
   "outputs": [
    {
     "name": "stdout",
     "output_type": "stream",
     "text": [
      "Score = 0 -- Sigmoid = 0.5\n",
      "Score = 19 -- Sigmoid = 0.9999999943972036\n",
      "Score = -14 -- Sigmoid = 8.315280276641321e-07\n",
      "Score = 0 -- Sigmoid = 0.5\n"
     ]
    }
   ],
   "source": [
    "for x1,x2 in Z:\n",
    "    score = 4*x1 + 5*x2 -9\n",
    "    print( \"Score =\", score, \"--\",  \"Sigmoid =\", sigmoid(score))"
   ]
  },
  {
   "cell_type": "code",
   "execution_count": null,
   "id": "scenic-facing",
   "metadata": {},
   "outputs": [],
   "source": []
  }
 ],
 "metadata": {
  "kernelspec": {
   "display_name": "Python 3",
   "language": "python",
   "name": "python3"
  },
  "language_info": {
   "codemirror_mode": {
    "name": "ipython",
    "version": 3
   },
   "file_extension": ".py",
   "mimetype": "text/x-python",
   "name": "python",
   "nbconvert_exporter": "python",
   "pygments_lexer": "ipython3",
   "version": "3.8.5"
  }
 },
 "nbformat": 4,
 "nbformat_minor": 5
}
